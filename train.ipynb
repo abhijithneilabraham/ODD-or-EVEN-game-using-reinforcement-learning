from keras.preprocessing.image import ImageDataGenerator
from keras.layers import Conv2D, MaxPooling2D, Dropout, Dense, Flatten
from keras.callbacks import EarlyStopping, ModelCheckpoint
from keras.models import Sequential, load_model
import tensorflow as tf
import numpy as np
import os
nbatch = 128

train_datagen = ImageDataGenerator( rescale=1./255,
                                    rotation_range=10.,
                                    width_shift_range=0.1,
                                    height_shift_range=0.1,
                                    zoom_range=0.2,
                                    horizontal_flip=True
                                  )

test_datagen  = ImageDataGenerator( rescale=1./255 )

train_gen = train_datagen.flow_from_directory(
        'images/train/',
        target_size=(260, 300),
        color_mode='grayscale',
        batch_size=nbatch,
         classes=['five','four','one','six','ten','three','two'],
        class_mode='categorical'
    )

test_gen = test_datagen.flow_from_directory(
        'images/test/',
        target_size=(260, 300),
        color_mode='grayscale',
        batch_size=nbatch,
         classes=['five','four','one','six','ten','three','two'],
        class_mode='categorical'
    )
model = Sequential()
model.add(Conv2D(32, (3,3), activation='relu', input_shape=(260,300,1)))
model.add(MaxPooling2D((2,2)))
model.add(Conv2D(64, (3,3), activation='relu'))
model.add(MaxPooling2D((2,2)))
model.add(Conv2D(128, (3,3), activation='relu'))
model.add(MaxPooling2D((2,2)))
model.add(Conv2D(128, (3,3), activation='relu'))
model.add(MaxPooling2D((2,2)))
model.add(Flatten())
model.add(Dense(512, activation='relu'))
model.add(Dropout(0.3))
model.add(Dense(7, activation='softmax'))

model.summary()
model.compile(optimizer='adadelta', loss='categorical_crossentropy', metrics=['acc'])
callbacks_list = [
    EarlyStopping(monitor='val_loss', patience=10),
    ModelCheckpoint(filepath='model_6cat.h5', monitor='val_loss', save_best_only=True),
]
os.environ["CUDA_VISIBLE_DEVICES"]="2"
with tf.device('/gpu:2'):
    history = model.fit_generator(
        train_gen,
        steps_per_epoch=71,
        epochs=10,
        validation_data=test_gen,
        validation_steps=28,
        callbacks=callbacks_list
    )